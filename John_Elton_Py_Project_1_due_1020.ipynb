{
  "cells": [
    {
      "cell_type": "markdown",
      "metadata": {
        "id": "xq__bChjD04e"
      },
      "source": [
        "# John_Elton_Python Assignment 1"
      ]
    },
    {
      "cell_type": "markdown",
      "metadata": {
        "id": "y7j2V0UDMYLG"
      },
      "source": [
        "⏱⏱⏱**Due: 10/20/2024 11:59:59 PM** ⏱⏱⏱\n",
        "\n",
        "Submit this notebook file and upload it to your git repo. Include a link to your git repo while submitting this file to Brightspace.\n",
        "\n",
        "You are not allowed to use chatgpt or any LLM in this assignment.\n",
        "Cooperation is allowed and encouraged; however, you must write up and submit your own work. If you cooperate with others, you must list their names here."
      ]
    },
    {
      "cell_type": "markdown",
      "metadata": {
        "id": "SUS30Ew9D04n"
      },
      "source": [
        "Total points: 100 (equivalent to 20 points after conversion)"
      ]
    },
    {
      "cell_type": "markdown",
      "metadata": {
        "id": "b_bgT3b2GYTB"
      },
      "source": [
        "## 0. Data Types, Structures, Indexing, and Slicing"
      ]
    },
    {
      "cell_type": "markdown",
      "metadata": {
        "id": "6yI1Jt57IwV2"
      },
      "source": [
        "Read the lecutre note as well as [this page](https://www.geeksforgeeks.org/mutable-vs-immutable-objects-in-python/) and [this page](https://www.geeksforgeeks.org/difference-between-shallow-and-deep-copy-of-a-class/). Complete the following questions.\n",
        "\n",
        "(5 points) Give some examples (at least 2) of mutable objects in Python.\n",
        "\n",
        "***Answer:***\n",
        "Python list, Python dict, and Python set\n",
        "\n",
        "---\n",
        "\n",
        "\n",
        "\n",
        "(5 points) Give some examples (at least 2) of immutable objects in Python.\n",
        "\n",
        "***Answer:***\n",
        "int, float, bool, string, Unicode, and tuple\n",
        "\n",
        "---\n",
        "\n",
        "\n",
        "\n",
        "(10 points) State the differences between assignment, shallow copy, and deep copy. Any reasonable answer will get full credit.\n",
        "\n",
        "***Answer:***\n",
        "In Python, assignment statements do not copy objects, they create bindings between a target and an object while deep and shallow copy both copy objects. The main difference between deep copy and shallow copy in Python is how they handle the objects they copy:\n",
        "\n",
        "Shallow Copy: Creates a new object, but inserts references into it to the objects found in the original. It copies the top-level structure of the object, but not the nested objects within.\n",
        "Deep Copy: Creates a new object and recursively copies all objects found in the original. This means it duplicates not just the top-level structure but also all nested structures. (Source: https://www.geeksforgeeks.org/copy-python-deep-copy-shallow-copy/?ref=header_outind)\n",
        "\n",
        "\n",
        "---\n",
        "\n",
        "\n",
        "\n"
      ]
    },
    {
      "cell_type": "markdown",
      "metadata": {
        "id": "OA8DxcrrGqZD"
      },
      "source": [
        "(10 points) Using string methods find() and rfind(), find the index of the first digit (i.e. 0) and the index of the last digit (5) in the string below. Then, using string slicing, extract the number (i.e. 0.595595) from this string and convert the extracted value to a floating point number. Print out this float to the console."
      ]
    },
    {
      "cell_type": "code",
      "execution_count": 7,
      "metadata": {
        "id": "AUuFXXWqG4D3",
        "colab": {
          "base_uri": "https://localhost:8080/"
        },
        "outputId": "2fe3aa0b-35c9-46d9-9591-72b87da967c8"
      },
      "outputs": [
        {
          "output_type": "stream",
          "name": "stdout",
          "text": [
            "0.595595\n"
          ]
        }
      ],
      "source": [
        "text = \"F-DGFDDSFGFD-CFDSHdstgfdfe: tfsd  aaa bdsf 0.595595 fdsgfdbc\";\n",
        "# Find the index of the first digit\n",
        "first_digit_index = text.find('0')\n",
        "\n",
        "# Find the index of the last digit\n",
        "last_digit_index = text.rfind('5')\n",
        "\n",
        "# Extract the number using string slicing\n",
        "# +1 since slicing exclusive of end index\n",
        "number_str = text[first_digit_index:last_digit_index + 1]\n",
        "\n",
        "# Convert the extracted string to a floating point number\n",
        "number_float = float(number_str)\n",
        "\n",
        "# Print the float to the console\n",
        "print(number_float)"
      ]
    },
    {
      "cell_type": "markdown",
      "metadata": {
        "id": "cnCljYgpD04p"
      },
      "source": [
        "## 1. Conditional Statements\n",
        "\n",
        "(10 points)\n",
        "Translate the following MATLAB code into Python using `if-elif-else`.\n",
        "```\n",
        "n = input('Enter a number: ');\n",
        "\n",
        "switch n\n",
        "    case -1\n",
        "        disp('negative one')\n",
        "    case 0\n",
        "        disp('zero')\n",
        "    case 1\n",
        "        disp('positive one')\n",
        "    otherwise\n",
        "        disp('other value')\n",
        "end\n",
        "```"
      ]
    },
    {
      "cell_type": "code",
      "execution_count": null,
      "metadata": {
        "collapsed": true,
        "id": "9d8vl5zjD04q"
      },
      "outputs": [],
      "source": [
        "# Ask the user to input a number and then converts it to an integer\n",
        "n = int(input('Enter a number: '))\n",
        "\n",
        "# Check the value of n and print the corresponding message.\n",
        "# The conditional statements must end with a \":\"\n",
        "if n == -1:\n",
        "    # Check if the number is -1 and print 'negative one' if true\n",
        "    print('negative one')\n",
        "elif n == 0:\n",
        "    # Check if the number is 0 and print 'zero' if true\n",
        "    print('zero')\n",
        "elif n == 1:\n",
        "    # Check if the number is 1 and print 'positive one' if true\n",
        "    print('positive one')\n",
        "else:\n",
        "    # If the number is not -1, 0, or 1, print 'other value'\n",
        "    print('other value')\n"
      ]
    },
    {
      "cell_type": "markdown",
      "metadata": {
        "id": "sW9XiUPpD04s"
      },
      "source": [
        "## 2. While Loops\n",
        "\n",
        "(10 points) Write a Python program that calculates the factorial of a given number (you can assume an positive integer) using a while loop. Display the result to the console."
      ]
    },
    {
      "cell_type": "code",
      "source": [
        "# The factorial of a non-negative integer n\n",
        "# is the product of all positive integers less than or equal to n.\n",
        "# It is denoted as n! and is defined as follows:\n",
        "# n! = n * (n - 1) * (n - 2) * ... * 1 for n > 1\n",
        "# 0! = 1 (by definition)\n",
        "# 1! = 1 (by definition)\n",
        "# Factorial is not defined for negative integers.\n",
        "def factorial(n):\n",
        "    # Check if the input is a non-negative integer\n",
        "    if n < 0:\n",
        "        return \"Factorial is not defined for negative numbers\"\n",
        "    # Factorial of 0 or 1 is 1\n",
        "    elif n == 0 or n == 1:\n",
        "        return 1\n",
        "    else:\n",
        "  # Initialize result to 1, multiply it by each integer down to 1\n",
        "        result = 1\n",
        "  # Loop to calculate factorial by multiplying result with n and decrementing n\n",
        "        while n > 1:\n",
        "            result *= n # Multiply result by n\n",
        "            n -= 1 # Decrement n by 1 for the next iteration\n",
        "        return result # Return the computed factorial\n",
        "\n",
        "# Ask the user to input a positive integer\n",
        "num = int(input(\"Enter a positive integer: \"))\n",
        "\n",
        "# Calculate and display the factorial\n",
        "result = factorial(num)\n",
        "print(f\"The factorial of {num} is: {result}\")\n",
        "\n",
        "# test cases\n",
        "print(\"Test case 1:\")\n",
        "print(f\"Factorial of 17: {factorial(17)}\")  # Expected output: 355687428096000\n",
        "\n",
        "print(\"\\nTest case 2:\")\n",
        "print(f\"Factorial of 13: {factorial(13)}\")  # Expected output: 6227020800\n",
        "\n",
        "print(\"\\nTest case 3:\")\n",
        "print(f\"Factorial of 4: {factorial(4)}\")  # Expected output: 24"
      ],
      "metadata": {
        "colab": {
          "base_uri": "https://localhost:8080/"
        },
        "id": "eXP7pwK9BKxd",
        "outputId": "58bd56de-53e4-4b4f-8d35-276b5caf92b1"
      },
      "execution_count": 24,
      "outputs": [
        {
          "output_type": "stream",
          "name": "stdout",
          "text": [
            "Enter a positive integer: 5\n",
            "The factorial of 5 is: 120\n",
            "Test case 1:\n",
            "Factorial of 17: 355687428096000\n",
            "\n",
            "Test case 2:\n",
            "Factorial of 13: 6227020800\n",
            "\n",
            "Test case 3:\n",
            "Factorial of 4: 24\n"
          ]
        }
      ]
    },
    {
      "cell_type": "markdown",
      "metadata": {
        "id": "ZQ5SVMq6D04w"
      },
      "source": [
        "## 3. Functions\n",
        "\n",
        "(10 points) Write a function that determines if a number is prime."
      ]
    },
    {
      "cell_type": "code",
      "execution_count": 13,
      "metadata": {
        "colab": {
          "base_uri": "https://localhost:8080/"
        },
        "id": "6rGP5G3_D04x",
        "outputId": "ef880102-4f1e-439d-bccc-df5f85f357d2",
        "collapsed": true
      },
      "outputs": [
        {
          "output_type": "stream",
          "name": "stdout",
          "text": [
            "True\n",
            "False\n",
            "True\n"
          ]
        }
      ],
      "source": [
        "def is_prime(n):\n",
        "   \"\"\"Check if a number is a prime number.\"\"\"\n",
        "  # Check if the number is less than or equal to 1\n",
        "  # Numbers less than or equal to 1 are not prime by definition\n",
        "   if n <= 1:\n",
        "    return False\n",
        "  # Check if the number is equal to 2\n",
        "  # 2 is the only even prime number\n",
        "   elif n == 2:\n",
        "    return True\n",
        "  # Iterate from 2 to the square root of n\n",
        "  # We only need to check up to sqrt(n) because:\n",
        "  # If n = p * q, one of p or q must be <= sqrt(n)\n",
        "  # The + 1 is added because the range function is exclusive of the upper limit.\n",
        "  # By adding 1, we ensure that the loop includes\n",
        "  # the integer value of the square root of n if it is a whole number.\n",
        "   for i in range(2, int(n**0.5) + 1):\n",
        "  # If n is divisible by any number in this range, it is not prime\n",
        "    if n % i == 0:\n",
        "        return False\n",
        "  # If there is no divisor after going through the loop, n is prime\n",
        "   return True\n",
        "# test cases\n",
        "print(is_prime(2))      # Output: True\n",
        "print(is_prime(10))     # Output: False\n",
        "print(is_prime(17))     # Output: True"
      ]
    },
    {
      "cell_type": "markdown",
      "metadata": {
        "id": "Z6qg-fpQD04u"
      },
      "source": [
        "## 4. List Comprehension\n",
        "\n",
        "(10 points) Write a Python function called `prime_factors` that takes a relatively small integer as input and returns a list of its distinct prime factors. The function should use list comprehension to generate the list of distinct prime factors. You may use the function is_prime() defined in Q3.\n"
      ]
    },
    {
      "cell_type": "code",
      "execution_count": 18,
      "metadata": {
        "colab": {
          "base_uri": "https://localhost:8080/"
        },
        "collapsed": true,
        "id": "2hSCjYlOD04v",
        "outputId": "03c02c65-421f-494b-f5c3-d9d9834e80b7"
      },
      "outputs": [
        {
          "output_type": "stream",
          "name": "stdout",
          "text": [
            "[2, 3, 5]\n",
            "[2, 7]\n",
            "[2, 3, 11]\n",
            "[2, 29]\n"
          ]
        }
      ],
      "source": [
        "def prime_factors(n):\n",
        "    \"\"\"Return a list of distinct prime factors of n.\"\"\"\n",
        "    # Initialize an empty list to store prime factors\n",
        "    factors = []\n",
        "    # Check for number of 2s in n\n",
        "    if n % 2 == 0:\n",
        "        factors.append(2) # 2 is a prime factor\n",
        "        while n % 2 == 0:\n",
        "            n //= 2 # Divide n by 2 until it is odd\n",
        "    # Check for odd factors from 3 onwards.\n",
        "    # The step of 2 is used to iterate only over odd numbers.\n",
        "    # Even numbers greater than 2 cannot be prime.\n",
        "    for i in range(3, int(n**0.5) + 1, 2):\n",
        "        if n % i == 0 and is_prime(i): # Check if i is a factor and prime\n",
        "            factors.append(i) # Add the prime factor to the list\n",
        "            while n % i == 0:\n",
        "                n //= i # Divide n by i until it no longer divides evenly\n",
        "    # If n is a prime number greater than 2, then it is a factor\n",
        "    if n > 2:\n",
        "        factors.append(n) # Add n to the list of factors\n",
        "    return factors # Return the list of distinct prime factors\n",
        "\n",
        "\n",
        "# test cases\n",
        "print(prime_factors(30))  # Output: [2, 3, 5]\n",
        "print(prime_factors(56))  # Output: [2, 7]\n",
        "print(prime_factors(198))  # Output: [2, 3, 11]\n",
        "print(prime_factors(464))  # Output: [2, 29]"
      ]
    },
    {
      "cell_type": "markdown",
      "metadata": {
        "id": "dw4kZZCiD040"
      },
      "source": [
        "## 5. Recursive Functions\n",
        "(25 points) Write a function that uses recursion to generate the $n$th row of the Pascal's triangle.\n",
        "```\n",
        "              1\n",
        "           1     1\n",
        "        1     2     1\n",
        "      1    3     3     1\n",
        "   1    4     6     4    1\n",
        "1     5    10    10    5    1\n",
        "...\n",
        "...\n",
        "...\n",
        "```"
      ]
    },
    {
      "cell_type": "code",
      "execution_count": 23,
      "metadata": {
        "colab": {
          "base_uri": "https://localhost:8080/"
        },
        "id": "V8QFB_gKD040",
        "outputId": "908726eb-2380-4fff-8c4e-afb68309ddf5"
      },
      "outputs": [
        {
          "output_type": "stream",
          "name": "stdout",
          "text": [
            "[1, 5, 10, 10, 5, 1]\n"
          ]
        }
      ],
      "source": [
        "def pascal(n):\n",
        "    \"\"\"Return the nth row of the Pascal's triangle.\n",
        "    Pascal's triangle is a triangular array of the binomial coefficients.\n",
        "    Each number is the sum of the two numbers\n",
        "    directly above it in the previous row.\"\"\"\n",
        "    # Base case: if n is 1, return [1]\n",
        "    if n == 1:\n",
        "        return [1]\n",
        "    else:\n",
        "        # Recursive call pascal to generate the previous row\n",
        "        previous_row = pascal(n - 1)\n",
        "        # Start with 1 (first element of the row)\n",
        "        row = [1]\n",
        "        # Compute the middle elements of the row.\n",
        "        # Each element is the sum of the two elements\n",
        "        # above it in the previous row.\n",
        "        for i in range(1, len(previous_row)):\n",
        "            # Add the two elements above it in the previous row\n",
        "            row.append(previous_row[i - 1] + previous_row[i])\n",
        "        # End with 1 (last element of the row)\n",
        "        row.append(1)\n",
        "        # Return the computed row\n",
        "        return row\n",
        "\n",
        "# test case\n",
        "print(pascal(6))  # output [1, 5, 10, 10, 5, 1]"
      ]
    },
    {
      "cell_type": "markdown",
      "metadata": {
        "id": "eZytgm0qD041"
      },
      "source": [
        "Rewrite the above function using only `while` or `for` loops instead of recursion."
      ]
    },
    {
      "cell_type": "code",
      "execution_count": 26,
      "metadata": {
        "colab": {
          "base_uri": "https://localhost:8080/"
        },
        "collapsed": true,
        "id": "UZ8f-akaD041",
        "outputId": "fcb847b6-4565-4629-e6a0-c08caa508f2b"
      },
      "outputs": [
        {
          "output_type": "stream",
          "name": "stdout",
          "text": [
            "[1, 5, 10, 10, 5, 1]\n"
          ]
        }
      ],
      "source": [
        "def pascal_by_loops(n):\n",
        "    \"\"\"Return the nth row of the Pascal's triangle using iterative loops.\n",
        "    Pascal's triangle is a triangular array of the binomial coefficients.\n",
        "    Each number is the sum of the two numbers\n",
        "    directly above it in the previous row.\"\"\"\n",
        "    # If n is 1, return the first row of Pascal's Triangle, which is [1].\n",
        "    if n == 1:\n",
        "        return [1]\n",
        "\n",
        "    # Start with the first row\n",
        "    # The first row is always [1].\n",
        "    current_row = [1]\n",
        "    # Loop through the number of rows we want to generate (from 1 to n-1).\n",
        "    for _ in range(1, n):\n",
        "        # Start the next row with 1\n",
        "        next_row = [1]\n",
        "        # Compute the middle elements of the next row\n",
        "        for i in range(1, len(current_row)):\n",
        "            # Each element is the sum of the two elements\n",
        "            # above it in the previous row.\n",
        "            next_row.append(current_row[i - 1] + current_row[i])\n",
        "      # End the next row with 1, as every row in Pascal's Triangle ends with 1.\n",
        "        next_row.append(1)\n",
        "        # Move to the next row by updating current_row to next_row.\n",
        "        current_row = next_row\n",
        "    # Return the nth row of Pascal's Triangle.\n",
        "    return current_row\n",
        "\n",
        "# Test case\n",
        "print(pascal_by_loops(6)) # Output should be: [1, 5, 10, 10, 5, 1]\n"
      ]
    },
    {
      "cell_type": "markdown",
      "metadata": {
        "id": "HvHD6QHzVo9I"
      },
      "source": [
        "\n",
        "\n",
        "---\n",
        "\n",
        "\n",
        "（5 points) good coding practice and properly submitting your work to GitHub."
      ]
    }
  ],
  "metadata": {
    "anaconda-cloud": {},
    "colab": {
      "provenance": []
    },
    "kernelspec": {
      "display_name": "Python 3",
      "language": "python",
      "name": "python3"
    },
    "language_info": {
      "codemirror_mode": {
        "name": "ipython",
        "version": 3
      },
      "file_extension": ".py",
      "mimetype": "text/x-python",
      "name": "python",
      "nbconvert_exporter": "python",
      "pygments_lexer": "ipython3",
      "version": "3.7.4"
    }
  },
  "nbformat": 4,
  "nbformat_minor": 0
}